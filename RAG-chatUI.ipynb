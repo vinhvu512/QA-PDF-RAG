{
 "metadata": {
  "kernelspec": {
   "language": "python",
   "display_name": "Python 3",
   "name": "python3"
  },
  "language_info": {
   "name": "python",
   "version": "3.10.13",
   "mimetype": "text/x-python",
   "codemirror_mode": {
    "name": "ipython",
    "version": 3
   },
   "pygments_lexer": "ipython3",
   "nbconvert_exporter": "python",
   "file_extension": ".py"
  },
  "kaggle": {
   "accelerator": "gpu",
   "dataSources": [],
   "dockerImageVersionId": 30733,
   "isInternetEnabled": true,
   "language": "python",
   "sourceType": "notebook",
   "isGpuEnabled": true
  }
 },
 "nbformat_minor": 4,
 "nbformat": 4,
 "cells": [
  {
   "cell_type": "code",
   "source": [
    "!pip install -q transformers==4.41.2\n",
    "!pip install -q bitsandbytes==0.43.1\n",
    "!pip install -q accelerate==0.31.0\n",
    "!pip install -q langchain==0.2.5\n",
    "!pip install -q langchainhub==0.1.20\n",
    "!pip install -q langchain-chroma==0.1.1\n",
    "!pip install -q langchain-community==0.2.5\n",
    "!pip install -q langchain-openai==0.1.9\n",
    "!pip install -q langchain_huggingface==0.0.3\n",
    "!pip install -q chainlit==1.1.304\n",
    "!pip install -q python-dotenv==1.0.1\n",
    "!pip install -q pypdf==4.2.0\n",
    "!npm install -g localtunnel\n",
    "!pip install -q numpy==1.24.4"
   ],
   "metadata": {
    "execution": {
     "iopub.status.busy": "2024-07-06T05:11:26.398071Z",
     "iopub.execute_input": "2024-07-06T05:11:26.398743Z"
    },
    "trusted": true
   },
   "execution_count": null,
   "outputs": []
  },
  {
   "cell_type": "code",
   "source": "import chainlit as cl\nimport torch\n\nfrom chainlit.types import AskFileResponse\n\nfrom transformers import BitsAndBytesConfig\nfrom transformers import AutoTokenizer, AutoModelForCausalLM, pipeline\nfrom langchain_huggingface import HuggingFaceEmbeddings\nfrom langchain_huggingface.llms import HuggingFacePipeline\n\nfrom langchain_community.chat_message_histories import ChatMessageHistory\nfrom langchain_community.document_loaders import PyPDFLoader, TextLoader\nfrom langchain.chains import ConversationalRetrievalChain\nfrom langchain.memory import ConversationBufferMemory\nfrom langchain_chroma import Chroma\nfrom langchain_text_splitters import RecursiveCharacterTextSplitter\nfrom langchain_core.runnables import RunnablePassthrough\nfrom langchain_core.output_parsers import StrOutputParser\nfrom langchain import hub",
   "metadata": {
    "trusted": true
   },
   "execution_count": null,
   "outputs": []
  },
  {
   "cell_type": "code",
   "source": "def process_file(file: AskFileResponse):\n    if file.type == \"text/plain\":\n        Loader = TextLoader\n    elif file.type == \"application/pdf\":\n        Loader = PyPDFLoader\n\n    loader = Loader(file.path)\n    documents = loader.load()\n    docs = text_splitter.split_documents(documents)\n    for i, doc in enumerate(docs):\n        doc.metadata[\"source\"] = f\"source_{i}\"\n    return docs",
   "metadata": {
    "trusted": true
   },
   "execution_count": null,
   "outputs": []
  },
  {
   "cell_type": "code",
   "source": "def get_vector_db(file: AskFileResponse):\n    docs = process_file(file)\n    cl.user_session.set(\"docs\", docs)\n    vector_db = Chroma.from_documents(documents=docs,\n                                      embedding=embedding)\n    return vector_db",
   "metadata": {
    "trusted": true
   },
   "execution_count": null,
   "outputs": []
  },
  {
   "cell_type": "code",
   "source": "def get_huggingface_llm(model_name: str = \"lmsys/vicuna-7b-v1.5\",\n                        max_new_token: int = 512):\n    nf4_config = BitsAndBytesConfig(\n        load_in_4bit=True,\n        bnb_4bit_quant_type=\"nf4\",\n        bnb_4bit_use_double_quant=True,\n        bnb_4bit_compute_dtype=torch.bfloat16\n    )\n    model = AutoModelForCausalLM.from_pretrained(\n        model_name,\n        quantization_config=nf4_config,\n        low_cpu_mem_usage=True\n    )\n    tokenizer = AutoTokenizer.from_pretrained(model_name)\n\n    model_pipeline = pipeline(\n        \"text-generation\",\n        model=model,\n        tokenizer=tokenizer,\n        max_new_tokens=max_new_token,\n        pad_token_id=tokenizer.eos_token_id,\n        device_map=\"auto\"\n    )\n\n    llm = HuggingFacePipeline(\n        pipeline=model_pipeline,\n    )\n    return llm\n\nLLM = get_huggingface_llm()",
   "metadata": {
    "trusted": true
   },
   "execution_count": null,
   "outputs": []
  },
  {
   "cell_type": "code",
   "source": "welcome_message = \"\"\"Welcome to the PDF QA! To get started:\n1. Upload a PDF or text file\n2. Ask a question about the file\n\"\"\"",
   "metadata": {
    "trusted": true
   },
   "execution_count": null,
   "outputs": []
  },
  {
   "cell_type": "code",
   "source": "@cl.on_chat_start\nasync def on_chat_start():\n    files = None\n    while files is None:\n        files = await cl.AskFileMessage(\n            content=welcome_message,\n            accept=[\"text/plain\", \"application/pdf\"],\n            max_size_mb=20,\n            timeout=180,\n        ).send()\n    file = files[0]\n\n    msg = cl.Message(content=f\"Processing `{file.name}`...\",\n                     disable_feedback=True)\n    await msg.send()\n\n    vector_db = await cl.make_async(get_vector_db)(file)\n\n    message_history = ChatMessageHistory()\n    memory = ConversationBufferMemory(\n        memory_key=\"chat_history\",\n        output_key=\"answer\",\n        chat_memory=message_history,\n        return_messages=True,\n    )\n    retriever = vector_db.as_retriever(search_type=\"mmr\",\n                                       search_kwargs={'k': 3})\n\n    chain = ConversationalRetrievalChain.from_llm(\n        llm=LLM,\n        chain_type=\"stuff\",\n        retriever=retriever,\n        memory=memory,\n        return_source_documents=True\n    )\n\n    msg.content = f\"`{file.name}` processed. You can now ask questions!\"\n    await msg.update()\n\n    cl.user_session.set(\"chain\", chain)",
   "metadata": {
    "trusted": true
   },
   "execution_count": null,
   "outputs": []
  },
  {
   "cell_type": "code",
   "source": "@cl.on_message\nasync def on_message(message: cl.Message):\n    chain = cl.user_session.get(\"chain\")\n    cb = cl.AsyncLangchainCallbackHandler()\n    res = await chain.ainvoke(message.content, callbacks=[cb])\n    answer = res[\"answer\"]\n    source_documents = res[\"source_documents\"]\n    text_elements = []\n\n    if source_documents:\n        for source_idx, source_doc in enumerate(source_documents):\n            source_name = f\"source_{source_idx}\"\n            text_elements.append(\n                cl.Text(content=source_doc.page_content,\n                        name=source_name)\n            )\n        source_names = [text_el.name for text_el in text_elements]\n\n        if source_names:\n            answer += f\"\\nSources: {', '.join(source_names)}\"\n        else:\n            answer += \"\\nNo sources found\"\n\n    await cl.Message(content=answer, elements=text_elements).send()",
   "metadata": {
    "trusted": true
   },
   "execution_count": null,
   "outputs": []
  },
  {
   "cell_type": "code",
   "source": "import urllib\nprint(\"Password/Enpoint IP for localtunnel is:\",urllib.request.urlopen('https://ipv4.icanhazip.com').read().decode('utf8').strip(\"\\n\"))",
   "metadata": {
    "trusted": true
   },
   "execution_count": null,
   "outputs": []
  },
  {
   "cell_type": "code",
   "source": "!chainlit run app.py --host 0.0.0.0 --port 8080 &>cl-logs.txt",
   "metadata": {
    "trusted": true
   },
   "execution_count": null,
   "outputs": []
  },
  {
   "cell_type": "code",
   "source": "!lt --port 8080 --subdomain simple-rag",
   "metadata": {
    "trusted": true
   },
   "execution_count": null,
   "outputs": []
  }
 ]
}
